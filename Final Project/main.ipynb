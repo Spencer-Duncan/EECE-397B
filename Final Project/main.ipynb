{
 "cells": [
  {
   "cell_type": "markdown",
   "metadata": {},
   "source": [
    "March Madness ML Project"
   ]
  },
  {
   "cell_type": "code",
   "execution_count": 1,
   "metadata": {},
   "outputs": [],
   "source": [
    "# lib imports copied from lab 4\n",
    "import numpy as np\n",
    "import pandas as pd\n",
    "import matplotlib.pyplot as plt\n",
    "import seaborn as sns\n",
    "sns.set()\n",
    "import patsy\n",
    "# Load the LinearRegression class from scikit-learn's linear_model module\n",
    "# Also load the PolynomialFeatures transformer and OneHotEncoder\n",
    "from sklearn.linear_model import LinearRegression\n",
    "from sklearn.preprocessing import PolynomialFeatures, OneHotEncoder\n",
    "from sklearn.model_selection import train_test_split\n",
    "\n",
    "from sklearn.linear_model import LogisticRegression\n",
    "from sklearn.naive_bayes import GaussianNB\n",
    "from sklearn.discriminant_analysis import LinearDiscriminantAnalysis\n",
    "from sklearn.discriminant_analysis import QuadraticDiscriminantAnalysis\n",
    "from sklearn import metrics\n",
    "from sklearn.metrics import confusion_matrix\n",
    "from sklearn.metrics import classification_report\n",
    "\n",
    "# Load the stats module from scipy so we can code the functions to compute model statistics\n",
    "from scipy import stats\n",
    "\n",
    "# Load StatsModels API\n",
    "# Note that if we wish to use R-style formulas, then we would load statsmodels.formula.api instead\n",
    "import statsmodels.api as sm\n",
    "import statsmodels.formula.api as smf"
   ]
  }
 ],
 "metadata": {
  "interpreter": {
   "hash": "221a3162a34c18c9a99c58801e6d1a4585a55d88c092b8d075b8d85a68ef51ea"
  },
  "kernelspec": {
   "display_name": "Python 3.8.8 ('base')",
   "language": "python",
   "name": "python3"
  },
  "language_info": {
   "codemirror_mode": {
    "name": "ipython",
    "version": 3
   },
   "file_extension": ".py",
   "mimetype": "text/x-python",
   "name": "python",
   "nbconvert_exporter": "python",
   "pygments_lexer": "ipython3",
   "version": "3.8.8"
  },
  "orig_nbformat": 4
 },
 "nbformat": 4,
 "nbformat_minor": 2
}

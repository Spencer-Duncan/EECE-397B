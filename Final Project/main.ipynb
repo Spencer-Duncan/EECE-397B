{
 "cells": [
  {
   "cell_type": "markdown",
   "metadata": {},
   "source": [
    "March Madness ML Project"
   ]
  },
  {
   "cell_type": "code",
   "execution_count": 37,
   "metadata": {},
   "outputs": [],
   "source": [
    "# lib imports copied from lab 4\n",
    "import numpy as np\n",
    "import pandas as pd\n",
    "import matplotlib.pyplot as plt\n",
    "%matplotlib inline\n",
    "import seaborn as sns\n",
    "sns.set()\n",
    "\n",
    "# Load the LinearRegression class from scikit-learn's linear_model module\n",
    "# Also load the PolynomialFeatures transformer and OneHotEncoder\n",
    "from sklearn.linear_model import LinearRegression\n",
    "from sklearn.preprocessing import PolynomialFeatures, OneHotEncoder\n",
    "from sklearn.model_selection import train_test_split\n",
    "\n",
    "from sklearn.linear_model import LogisticRegression\n",
    "from sklearn.naive_bayes import GaussianNB\n",
    "from sklearn.discriminant_analysis import LinearDiscriminantAnalysis\n",
    "from sklearn.discriminant_analysis import QuadraticDiscriminantAnalysis\n",
    "from sklearn import metrics\n",
    "from sklearn.metrics import confusion_matrix\n",
    "from sklearn.metrics import classification_report\n",
    "\n"
   ]
  },
  {
   "cell_type": "code",
   "execution_count": 38,
   "metadata": {},
   "outputs": [],
   "source": [
    "RSDR = \"mens-march-mania-2022\\MDataFiles_Stage1\\MRegularSeasonDetailedResults.csv\"\n",
    "Teams = \"mens-march-mania-2022\\MDataFiles_Stage1\\MTeams.csv\"\n",
    "# For the fisrt iteration lets omit the seeds\n",
    "Seeds = \"mens-march-mania-2022\\MDataFiles_Stage1\\MNCAATourneySeeds.csv\"\n",
    "SeedRoundSlots = \"mens-march-mania-2022\\MDataFiles_Stage1\\MNCAATourneySeedRoundSlots.csv\"\n",
    "\n",
    "ConferenceTourney = \"mens-march-mania-2022\\MDataFiles_Stage1\\MConferenceTourneyGames.csv\"\n",
    "MasseyOrd = \"mens-march-mania-2022\\MDataFiles_Stage1\\MMasseyOrdinals.csv\"\n",
    "Coaches = \"mens-march-mania-2022\\MDataFiles_Stage1\\MTeamCoaches.csv\"\n",
    "TeamConferences = \"mens-march-mania-2022\\MDataFiles_Stage1\\MTeamConferences.csv\"\n",
    "\n",
    "\n",
    "# All databases that could potentially have usable data\n",
    "RSDR = pd.read_csv(RSDR, na_values = [\"?\"]).dropna()\n",
    "Teams = pd.read_csv(Teams, na_values = [\"?\"]).dropna()\n",
    "Seeds = pd.read_csv(Seeds, na_values = [\"?\"]).dropna()\n",
    "SeedRoundSlots = pd.read_csv(SeedRoundSlots, na_values = [\"?\"]).dropna()\n",
    "\n",
    "ConferenceTourney = pd.read_csv(ConferenceTourney, na_values = [\"?\"]).dropna()\n",
    "MasseyOrd = pd.read_csv(MasseyOrd, na_values = [\"?\"]).dropna()\n",
    "Coaches = pd.read_csv(Coaches, na_values = [\"?\"]).dropna()\n",
    "\n",
    "\n",
    "# RSDR.info()\n",
    "RSDR.head()\n",
    "# Teams.info()\n",
    "# Teams.head()\n",
    "# ConferenceTourney.info()\n",
    "# ConferenceTourney.head()\n",
    "# MasseyOrd.info()\n",
    "# MasseyOrd.head(20)\n",
    "# Coaches.info()\n",
    "# Coaches.head(20)\n",
    "\n",
    "# Due to player turn over we want to limit the data to \"more recent\" data of 2015 and onward and reset the index\n",
    "RSDR = RSDR[(RSDR['Season'] > 2015)].reset_index()\n",
    "RSDR.drop(['index'], axis= 1, inplace= True)\n",
    "MasseyOrd = MasseyOrd[(MasseyOrd['Season'] > 2015)].reset_index()\n",
    "MasseyOrd.drop(['index'], axis= 1, inplace= True)\n",
    "Seeds = Seeds[(Seeds['Season'] > 2015)].reset_index()\n",
    "Seeds.drop(['index'], axis= 1, inplace= True)\n",
    "\n",
    "# Need to replace the location objects with random number values\n",
    "RSDR['WLoc'].replace({'H' : 0, 'A' : 1, 'N' : 2}, inplace = True)\n",
    "\n",
    "#Checking to see if we have any null values in the current semi-cleaned data set\n",
    "# sns.heatmap(RSDR.isnull(), yticklabels= False, cbar= False, cmap= \"viridis\")\n",
    "# sns.heatmap(MasseyOrd.isnull(), yticklabels= False, cbar= False, cmap= \"viridis\")\n",
    "# sns.heatmap(Seeds.isnull(), yticklabels= False, cbar= False, cmap= \"viridis\")\n",
    "\n",
    "\n"
   ]
  },
  {
   "cell_type": "code",
   "execution_count": null,
   "metadata": {},
   "outputs": [],
   "source": []
  }
 ],
 "metadata": {
  "interpreter": {
   "hash": "221a3162a34c18c9a99c58801e6d1a4585a55d88c092b8d075b8d85a68ef51ea"
  },
  "kernelspec": {
   "display_name": "Python 3.8.8 ('base')",
   "language": "python",
   "name": "python3"
  },
  "language_info": {
   "codemirror_mode": {
    "name": "ipython",
    "version": 3
   },
   "file_extension": ".py",
   "mimetype": "text/x-python",
   "name": "python",
   "nbconvert_exporter": "python",
   "pygments_lexer": "ipython3",
   "version": "3.9.7"
  },
  "orig_nbformat": 4
 },
 "nbformat": 4,
 "nbformat_minor": 2
}
